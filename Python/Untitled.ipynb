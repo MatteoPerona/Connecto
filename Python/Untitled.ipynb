{
 "cells": [
  {
   "cell_type": "code",
   "execution_count": 1,
   "metadata": {},
   "outputs": [],
   "source": [
    "import numpy as np\n",
    "import random\n",
    "import time"
   ]
  },
  {
   "cell_type": "code",
   "execution_count": 2,
   "metadata": {},
   "outputs": [],
   "source": [
    "# returns all edges for a given index (int, int) given an existing shape\n",
    "def find_edges(index, shape):\n",
    "    \n",
    "    top = (index[0], index[1]-1)\n",
    "    bottom = (index[0], index[1]+1)\n",
    "    left = (index[0]-1, index[1])\n",
    "    right = (index[0]+1, index[1])\n",
    "    \n",
    "    e = [top, bottom, left, right]\n",
    "    e_found = []\n",
    "    # checks whether the edges fit in the 8X8 grid & whether the supposed edge is, in fact, filled in\n",
    "    for edge in e:  \n",
    "        valid = True\n",
    "        for i in edge:\n",
    "            if i < 0 or i > 7:\n",
    "                #e.remove(edge)\n",
    "                valid = False\n",
    "                break\n",
    "                \n",
    "        if valid and shape[edge] > 0:\n",
    "            #e.remove(edge)\n",
    "            continue\n",
    "            \n",
    "        if valid:\n",
    "            e_found.append(edge)\n",
    "    \n",
    "    return e_found"
   ]
  },
  {
   "cell_type": "code",
   "execution_count": 18,
   "metadata": {},
   "outputs": [
    {
     "data": {
      "text/plain": [
       "array([[0., 0., 0., 0., 0., 0., 0., 0.],\n",
       "       [0., 0., 0., 0., 0., 0., 0., 0.],\n",
       "       [0., 0., 0., 0., 0., 0., 0., 1.],\n",
       "       [0., 0., 0., 0., 1., 1., 1., 1.],\n",
       "       [0., 0., 0., 0., 0., 1., 1., 1.],\n",
       "       [0., 0., 0., 0., 0., 0., 1., 0.],\n",
       "       [0., 0., 0., 0., 0., 0., 0., 0.],\n",
       "       [0., 0., 0., 0., 0., 0., 0., 0.]])"
      ]
     },
     "execution_count": 18,
     "metadata": {},
     "output_type": "execute_result"
    }
   ],
   "source": [
    "# initializes 8x8 matrix of zeros to store the shape\n",
    "shape = np.zeros((8,8))\n",
    "\n",
    "# stores edges for each generative pass\n",
    "edges = []\n",
    "\n",
    "# chooses a random starting point (int, int) for generation\n",
    "start_index = (random.randint(0,7), random.randint(0,7))\n",
    "shape[start_index] += 1\n",
    "\n",
    "# locates and adds starting edges to the edges list\n",
    "for e in find_edges(start_index, shape):\n",
    "    edges.append(e)\n",
    "\n",
    "# generates shape body over a specified number of passes (generations (int))\n",
    "generations = 2\n",
    "for z in range(generations): \n",
    "    if len(edges) < 1:\n",
    "        break\n",
    "    \n",
    "    # used to store the new edges which will used to update edges at the end of each pass\n",
    "    temp_edges = []\n",
    "    \n",
    "    # generates a random selection of edges which will become part of the body\n",
    "    inds = [random.randint(0,len(edges)-1) for x in range(len(edges))]\n",
    "    \n",
    "    # adds body at all selected edges in inds\n",
    "    for x in inds:\n",
    "        # catches doubles created in inds\n",
    "        if shape[edges[x]] < 1:\n",
    "            shape[edges[x]] += 1\n",
    "            # finds and adds new edges to temp_edges\n",
    "            for e in find_edges(edges[x], shape):\n",
    "                temp_edges.append(e)\n",
    "    \n",
    "    edges = temp_edges[:]\n",
    "\n",
    "\n",
    "shape"
   ]
  },
  {
   "cell_type": "code",
   "execution_count": 53,
   "metadata": {},
   "outputs": [
    {
     "ename": "ValueError",
     "evalue": "setting an array element with a sequence.",
     "output_type": "error",
     "traceback": [
      "\u001b[0;31m---------------------------------------------------------------------------\u001b[0m",
      "\u001b[0;31mTypeError\u001b[0m                                 Traceback (most recent call last)",
      "\u001b[0;31mTypeError\u001b[0m: float() argument must be a string or a number, not 'list'",
      "\nThe above exception was the direct cause of the following exception:\n",
      "\u001b[0;31mValueError\u001b[0m                                Traceback (most recent call last)",
      "\u001b[0;32m<ipython-input-53-152c35c53a73>\u001b[0m in \u001b[0;36m<module>\u001b[0;34m\u001b[0m\n\u001b[1;32m      6\u001b[0m             \u001b[0mshape\u001b[0m\u001b[0;34m[\u001b[0m\u001b[0mr\u001b[0m\u001b[0;34m]\u001b[0m\u001b[0;34m[\u001b[0m\u001b[0mi\u001b[0m\u001b[0;34m]\u001b[0m \u001b[0;34m=\u001b[0m \u001b[0;34m[\u001b[0m\u001b[0;36m255\u001b[0m\u001b[0;34m,\u001b[0m \u001b[0;36m255\u001b[0m\u001b[0;34m,\u001b[0m \u001b[0;36m255\u001b[0m\u001b[0;34m]\u001b[0m\u001b[0;34m\u001b[0m\u001b[0;34m\u001b[0m\u001b[0m\n\u001b[1;32m      7\u001b[0m         \u001b[0;32melse\u001b[0m\u001b[0;34m:\u001b[0m\u001b[0;34m\u001b[0m\u001b[0;34m\u001b[0m\u001b[0m\n\u001b[0;32m----> 8\u001b[0;31m             \u001b[0mshape\u001b[0m\u001b[0;34m[\u001b[0m\u001b[0mr\u001b[0m\u001b[0;34m]\u001b[0m\u001b[0;34m[\u001b[0m\u001b[0mi\u001b[0m\u001b[0;34m]\u001b[0m \u001b[0;34m=\u001b[0m \u001b[0;34m[\u001b[0m\u001b[0;36m0\u001b[0m\u001b[0;34m,\u001b[0m \u001b[0;36m0\u001b[0m\u001b[0;34m,\u001b[0m \u001b[0;36m0\u001b[0m\u001b[0;34m]\u001b[0m\u001b[0;34m\u001b[0m\u001b[0;34m\u001b[0m\u001b[0m\n\u001b[0m\u001b[1;32m      9\u001b[0m \u001b[0;34m\u001b[0m\u001b[0m\n\u001b[1;32m     10\u001b[0m \u001b[0mim\u001b[0m \u001b[0;34m=\u001b[0m \u001b[0mImage\u001b[0m\u001b[0;34m.\u001b[0m\u001b[0mfromarray\u001b[0m\u001b[0;34m(\u001b[0m\u001b[0mshape\u001b[0m\u001b[0;34m,\u001b[0m \u001b[0;34m'RGB'\u001b[0m\u001b[0;34m)\u001b[0m\u001b[0;34m\u001b[0m\u001b[0;34m\u001b[0m\u001b[0m\n",
      "\u001b[0;31mValueError\u001b[0m: setting an array element with a sequence."
     ]
    }
   ],
   "source": [
    "from PIL import Image\n",
    "\n",
    "\n",
    "\n",
    "for r in range(len(shape)):\n",
    "    for i in range(len(shape[r])):\n",
    "        if i > 0:\n",
    "            shape[r][i] = [255, 255, 255]\n",
    "        else:\n",
    "            shape[r][i] = [0, 0, 0]\n",
    "            \n",
    "im = Image.fromarray(shape, 'RGB')\n",
    "im"
   ]
  },
  {
   "cell_type": "code",
   "execution_count": 52,
   "metadata": {},
   "outputs": [
    {
     "data": {
      "text/plain": [
       "8"
      ]
     },
     "execution_count": 52,
     "metadata": {},
     "output_type": "execute_result"
    }
   ],
   "source": [
    "len(shape)"
   ]
  },
  {
   "cell_type": "code",
   "execution_count": null,
   "metadata": {},
   "outputs": [],
   "source": [
    "\n"
   ]
  }
 ],
 "metadata": {
  "kernelspec": {
   "display_name": "Python 3",
   "language": "python",
   "name": "python3"
  },
  "language_info": {
   "codemirror_mode": {
    "name": "ipython",
    "version": 3
   },
   "file_extension": ".py",
   "mimetype": "text/x-python",
   "name": "python",
   "nbconvert_exporter": "python",
   "pygments_lexer": "ipython3",
   "version": "3.7.6"
  }
 },
 "nbformat": 4,
 "nbformat_minor": 4
}
