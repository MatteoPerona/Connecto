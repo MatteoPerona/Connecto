{
 "cells": [
  {
   "cell_type": "code",
   "execution_count": 609,
   "metadata": {},
   "outputs": [],
   "source": [
    "import numpy as np\n",
    "import random\n",
    "import time\n",
    "from PIL import Image, ImageDraw\n",
    "import matplotlib.pyplot as plt"
   ]
  },
  {
   "cell_type": "code",
   "execution_count": 615,
   "metadata": {},
   "outputs": [],
   "source": [
    "# returns all edges for a given index (int, int) given an existing shape\n",
    "def find_edges(index, shape, discriminant = 0):\n",
    "    \n",
    "    top = (index[0], index[1]-1)\n",
    "    bottom = (index[0], index[1]+1)\n",
    "    left = (index[0]-1, index[1])\n",
    "    right = (index[0]+1, index[1])\n",
    "    \n",
    "    e = [top, bottom, left, right]\n",
    "    e_found = []\n",
    "    # checks whether the edges fit in the nXn grid & whether the supposed edge is, in fact, filled in\n",
    "    for edge in e:  \n",
    "        valid = True\n",
    "        for i in edge:\n",
    "            if i < 0 or i > shape.shape[0]-1:\n",
    "                #e.remove(edge)\n",
    "                valid = False\n",
    "                break\n",
    "                \n",
    "        if valid and shape[edge] > discriminant:\n",
    "            #e.remove(edge)\n",
    "            continue\n",
    "            \n",
    "        if valid:\n",
    "            e_found.append(edge)\n",
    "    \n",
    "    return e_found\n",
    "\n",
    "\n",
    "# returns an image that represents shape (2D np array)\n",
    "# color is a list representing RGB\n",
    "# res is an (int, int) tuple storing the x and y multipliers for the array size\n",
    "def shape_as_image(shape, res = (64, 64), random_color = False):\n",
    "    # generates colors for each unique value seen in the matrix\n",
    "    colors = [[0, 0, 0, 0]]\n",
    "    comp_values = [0]\n",
    "    for v in shape.flatten():\n",
    "        new_value = True\n",
    "        for c in comp_values:\n",
    "            if v == c:\n",
    "                new_value = False\n",
    "                break\n",
    "        \n",
    "        if new_value:\n",
    "            comp_values.append(new_value)\n",
    "            colors.append([random.randint(0,255)\n",
    "                           , random.randint(0,255)\n",
    "                           , random.randint(0,255)\n",
    "                           , 255])\n",
    "            \n",
    "    # generates a new shape based on res which adds an extra dimension for color\n",
    "    new_shape = np.zeros((shape.shape[0]*res[1], shape.shape[1]*res[0], 4), dtype=np.uint8)\n",
    "    \n",
    "    # colors in each block of pixels that corresponds to a value greater than 0 in shape\n",
    "    for r in range(len(shape)):\n",
    "        for i in range(len(shape[r])):\n",
    "            if shape[r][i] > 0:\n",
    "                color = colors[int(shape[r][i])]\n",
    "                if random_color:\n",
    "                    color = [random.randint(0,255), random.randint(0,255), random.randint(0,255), 255]\n",
    "                for row in new_shape[r*res[1]:r*res[1]+res[1]]:\n",
    "                    row[i*res[0]:i*res[0]+res[0]] = color\n",
    "    \n",
    "    return Image.fromarray(new_shape, 'RGBA')\n",
    "\n"
   ]
  },
  {
   "cell_type": "code",
   "execution_count": 616,
   "metadata": {},
   "outputs": [],
   "source": [
    "# randomly generates a shape given a grid_size (int) and number of generations (int)\n",
    "def organic_shape(grid_size = 8, generations = 5, save_gif = False):\n",
    "    # initializes matrix of zeros to store the shape\n",
    "    shape = np.zeros((grid_size, grid_size))\n",
    "\n",
    "    # stores edges for each generative pass\n",
    "    edges = []\n",
    "\n",
    "    # chooses a random starting point (int, int) for generation\n",
    "    start_index = (random.randint(0,7), random.randint(0,7))\n",
    "    shape[start_index] += 1\n",
    "\n",
    "    # locates and adds starting edges to the edges list\n",
    "    for e in find_edges(start_index, shape):\n",
    "        edges.append(e)\n",
    "    \n",
    "    #stores frames for gif\n",
    "    frames = []\n",
    "    \n",
    "    # generates shape body over a specified number of passes (generations (int))\n",
    "    for z in range(generations): \n",
    "        if len(edges) < 1:\n",
    "            break\n",
    "\n",
    "        # used to store the new edges which will used to update edges at the end of each pass\n",
    "        temp_edges = []\n",
    "\n",
    "        # generates a random selection of edges which will become part of the body\n",
    "        inds = [random.randint(0,len(edges)-1) for x in range(len(edges))]\n",
    "\n",
    "        # adds body at all selected edges in inds\n",
    "        for x in inds:\n",
    "            # catches doubles created in inds\n",
    "            if shape[edges[x]] < 1:\n",
    "                shape[edges[x]] += 1\n",
    "                # finds and adds new edges to temp_edges\n",
    "                for e in find_edges(edges[x], shape):\n",
    "                    temp_edges.append(e)\n",
    "\n",
    "        edges = temp_edges[:]\n",
    "        \n",
    "        if save_gif:\n",
    "            # adds current shape as image to frames list\n",
    "            frames.append(shape_as_image(shape, random_color = False))\n",
    "    \n",
    "    if save_gif:\n",
    "        # saves a gif of all frames in frames list\n",
    "        frames[0].save('./organic_shpes.gif', save_all=True\n",
    "                       , append_images=frames[1:], optimize=False, duration=200, loop=0)\n",
    "    \n",
    "    return shape"
   ]
  },
  {
   "cell_type": "code",
   "execution_count": 617,
   "metadata": {},
   "outputs": [],
   "source": [
    "# retruns a distribution of subshapes of size two, three, and four given a shape matrix\n",
    "# returns [# of 2 unit shapes, # of 3 unit shapes, # of 4 unit shapes]\n",
    "def distribute_numbers(shape):\n",
    "    # counts the number of units that make up shape\n",
    "    count = len([v for v in shape])\n",
    "    \n",
    "    # randomized percentages of 3-4 unit shapes\n",
    "    a = random.randint(0,100)\n",
    "    b = 100-a\n",
    "    percents = [a, b]\n",
    "    \n",
    "    dist = [int(np.round(count*(percents[0]/100))), \n",
    "            int(np.round(count*(percents[1]/100)))]\n",
    "\n",
    "    dist_sum = sum(dist)\n",
    "\n",
    "    if dist_sum < count:\n",
    "        dist[random.randint(0,1)] += 1\n",
    "    elif dist_sum > count:\n",
    "        dist[random.randint(0,1)] -= 1\n",
    "        \n",
    "    return dist\n"
   ]
  },
  {
   "cell_type": "code",
   "execution_count": 618,
   "metadata": {},
   "outputs": [
    {
     "name": "stdout",
     "output_type": "stream",
     "text": [
      "[1, 7]\n"
     ]
    },
    {
     "data": {
      "text/plain": [
       "array([[0., 0., 0., 0., 0., 0., 0., 0.],\n",
       "       [0., 0., 0., 0., 0., 0., 0., 0.],\n",
       "       [0., 0., 0., 1., 0., 0., 0., 0.],\n",
       "       [0., 0., 1., 1., 1., 0., 0., 0.],\n",
       "       [0., 1., 1., 1., 2., 1., 1., 1.],\n",
       "       [0., 1., 1., 1., 1., 1., 1., 1.],\n",
       "       [0., 1., 1., 1., 1., 1., 1., 1.],\n",
       "       [0., 0., 1., 1., 1., 1., 1., 1.]])"
      ]
     },
     "execution_count": 618,
     "metadata": {},
     "output_type": "execute_result"
    }
   ],
   "source": [
    "shape = organic_shape(8, 6, save_gif = False)\n",
    "\n",
    "dist = distribute_numbers(shape)\n",
    "print(dist)\n",
    "\n",
    "def make_subshapes(shape, unit_size, count, identifier):\n",
    "    ones = []\n",
    "    for y in range(len(shape)):\n",
    "        for x in range(len(shape[y])):\n",
    "            if shape[(x, y)] == 1:\n",
    "                ones.append((x, y))\n",
    "                \n",
    "    for x in range(count):\n",
    "        current_index = ones[random.randint(0, len(ones)-1)]\n",
    "        shape[current_index] = identifier\n",
    "        ones.remove(current_index)\n",
    "        for x in range(unit_size-1):\n",
    "            edges = [e for e in find_edges(current_index, shape,  1) if shape[e] == 1]\n",
    "            \n",
    "        \n",
    "    return shape\n",
    "        \n",
    "make_subshapes(shape, 3, dist[0], 2)"
   ]
  },
  {
   "cell_type": "code",
   "execution_count": 623,
   "metadata": {},
   "outputs": [
    {
     "data": {
      "image/png": "[encoded data removed]",
      "text/plain": [
       "<PIL.Image.Image image mode=RGBA size=200x200 at 0x7FBAFD38BB50>"
      ]
     },
     "execution_count": 623,
     "metadata": {},
     "output_type": "execute_result"
    }
   ],
   "source": [
    "shape = organic_shape(8, 6, save_gif = False)\n",
    "shape_as_image(shape, res = (25, 25), random_color = False)"
   ]
  },
  {
   "cell_type": "code",
   "execution_count": 680,
   "metadata": {},
   "outputs": [
    {
     "data": {
      "image/png": "[encoded data removed]",
      "text/plain": [
       "<PIL.Image.Image image mode=RGBA size=512x512 at 0x7FBAFDB2F3D0>"
      ]
     },
     "execution_count": 680,
     "metadata": {},
     "output_type": "execute_result"
    }
   ],
   "source": [
    "shape = organic_shape(8, 3, save_gif = False)\n",
    "save_gif = True\n",
    "\n",
    "# returns the true if tup0 (int, int) borders tup1 (int, int)\n",
    "def is_bordering(tup0, tup1):\n",
    "    # find the magnitude of difference between the x & y values\n",
    "    x_diff = np.abs(tup0[0] - tup1[0])\n",
    "    y_diff = np.abs(tup0[1] - tup1[1])\n",
    "    # uses calculated diffs to \n",
    "    if x_diff == 1 and y_diff == 0:\n",
    "        return True\n",
    "    elif y_diff == 1 and x_diff == 0:\n",
    "        return True\n",
    "    else:\n",
    "        return False\n",
    "\n",
    "frames = []\n",
    "\n",
    "if save_gif:\n",
    "    # adds current shape as image to frames list\n",
    "    frames.append(shape_as_image(shape, random_color = False))\n",
    "\n",
    "for z in range(100):\n",
    "    ones = []\n",
    "    for y in range(len(shape)):\n",
    "        for x in range(len(shape[y])):\n",
    "            if shape[(x, y)] == 1:\n",
    "                ones.append((x, y))\n",
    "    \n",
    "    if len(ones) == 0:\n",
    "        break\n",
    "        \n",
    "    pick = ones[random.randint(0, len(ones)-1)]\n",
    "    shape[pick] += z+1\n",
    "    ones.remove(pick)\n",
    "    \n",
    "    for i in range(2):\n",
    "        random.shuffle(ones)\n",
    "        borders = []\n",
    "        for one in ones:\n",
    "            if is_bordering(pick, one):\n",
    "                if shape[one] == 1:\n",
    "                    borders.append(one)\n",
    "        \n",
    "        random.shuffle(borders)\n",
    "        if len(borders) > 0:\n",
    "            for j in range(random.randint(1, len(borders))):\n",
    "                shape[borders[j]] += z+1\n",
    "                try:\n",
    "                    np.delete(ones, borders[j])\n",
    "                except:\n",
    "                    print(borders[j], ones)\n",
    "\n",
    "            pick = borders[0]\n",
    "            \n",
    "    if save_gif:\n",
    "        # adds current shape as image to frames list\n",
    "        frames.append(shape_as_image(shape, random_color = False))\n",
    "    \n",
    "if save_gif:\n",
    "    # saves a gif of all frames in frames list\n",
    "    frames[0].save('./organic_subdivisions.gif', save_all=True\n",
    "                   , append_images=frames[1:], optimize=False, duration=200, loop=0)\n",
    "\n",
    "shape_as_image(shape)"
   ]
  },
  {
   "cell_type": "code",
   "execution_count": 669,
   "metadata": {},
   "outputs": [
    {
     "data": {
      "image/png": "[encoded data removed]",
      "text/plain": [
       "<PIL.Image.Image image mode=RGBA size=512x512 at 0x7FBAE0035410>"
      ]
     },
     "execution_count": 669,
     "metadata": {},
     "output_type": "execute_result"
    }
   ],
   "source": [
    "shape_as_image(shape)"
   ]
  },
  {
   "cell_type": "code",
   "execution_count": 651,
   "metadata": {},
   "outputs": [
    {
     "data": {
      "text/plain": [
       "array([[0., 0., 0., 0., 0., 0., 0., 0.],\n",
       "       [0., 0., 0., 0., 0., 0., 0., 0.],\n",
       "       [0., 0., 0., 4., 0., 0., 0., 0.],\n",
       "       [2., 4., 4., 4., 0., 0., 0., 0.],\n",
       "       [2., 2., 3., 3., 3., 8., 0., 0.],\n",
       "       [2., 2., 3., 3., 5., 0., 0., 0.],\n",
       "       [2., 6., 6., 7., 5., 5., 0., 0.],\n",
       "       [6., 6., 6., 5., 5., 0., 0., 0.]])"
      ]
     },
     "execution_count": 651,
     "metadata": {},
     "output_type": "execute_result"
    }
   ],
   "source": [
    "shape"
   ]
  },
  {
   "cell_type": "code",
   "execution_count": 690,
   "metadata": {},
   "outputs": [
    {
     "data": {
      "image/png": "[encoded data removed]",
      "text/plain": [
       "<PIL.Image.Image image mode=RGBA size=256x256 at 0x7FBAE0059AD0>"
      ]
     },
     "execution_count": 690,
     "metadata": {},
     "output_type": "execute_result"
    }
   ],
   "source": [
    "res = (32, 32)\n",
    "\n",
    "# generates colors for each unique value seen in the matrix\n",
    "colors = [[0, 0, 0, 0]]\n",
    "comp_values = [0]\n",
    "for v in shape.flatten():\n",
    "    new_value = True\n",
    "    for c in comp_values:\n",
    "        if v == c:\n",
    "            new_value = False\n",
    "            break\n",
    "\n",
    "    if new_value:\n",
    "        comp_values.append(new_value)\n",
    "        colors.append([random.randint(0,255)\n",
    "                       , random.randint(0,255)\n",
    "                       , random.randint(0,255)\n",
    "                       , 255])\n",
    "\n",
    "# generates a new shape based on res which adds an extra dimension for color\n",
    "new_shape = np.zeros((shape.shape[0]*res[1], shape.shape[1]*res[0], 4), dtype=np.uint8)\n",
    "\n",
    "# colors in each block of pixels that corresponds to a value greater than 0 in shape\n",
    "for r in range(len(shape)):\n",
    "    for i in range(len(shape[r])):\n",
    "        if shape[r][i] > 0:\n",
    "            color = colors[int(shape[r][i])]\n",
    "            for row in new_shape[r*res[1]:r*res[1]+res[1]]:\n",
    "                row[i*res[0]:i*res[0]+res[0]] = color\n",
    "            for row in new_shape[r*res[1]:r*res[1]+res[1]]:\n",
    "                row[i*res[0]:i*res[0]+5] = [0,0,0,0]\n",
    "                row[i*res[0]+res[0]-5:i*res[0]+res[0]] = [0,0,0,0]\n",
    "            \n",
    "\n",
    "Image.fromarray(new_shape, 'RGBA')"
   ]
  },
  {
   "cell_type": "code",
   "execution_count": null,
   "metadata": {},
   "outputs": [],
   "source": []
  }
 ],
 "metadata": {
  "kernelspec": {
   "display_name": "Python 3",
   "language": "python",
   "name": "python3"
  },
  "language_info": {
   "codemirror_mode": {
    "name": "ipython",
    "version": 3
   },
   "file_extension": ".py",
   "mimetype": "text/x-python",
   "name": "python",
   "nbconvert_exporter": "python",
   "pygments_lexer": "ipython3",
   "version": "3.7.6"
  }
 },
 "nbformat": 4,
 "nbformat_minor": 4
}
