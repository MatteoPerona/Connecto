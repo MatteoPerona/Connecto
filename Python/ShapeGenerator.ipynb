{
 "cells": [
  {
   "cell_type": "code",
   "execution_count": 107,
   "metadata": {},
   "outputs": [],
   "source": [
    "import numpy as np\n",
    "import random\n",
    "import time\n",
    "from PIL import Image, ImageDraw"
   ]
  },
  {
   "cell_type": "code",
   "execution_count": 134,
   "metadata": {},
   "outputs": [],
   "source": [
    "# returns all edges for a given index (int, int) given an existing shape\n",
    "def find_edges(index, shape):\n",
    "    \n",
    "    top = (index[0], index[1]-1)\n",
    "    bottom = (index[0], index[1]+1)\n",
    "    left = (index[0]-1, index[1])\n",
    "    right = (index[0]+1, index[1])\n",
    "    \n",
    "    e = [top, bottom, left, right]\n",
    "    e_found = []\n",
    "    # checks whether the edges fit in the nXn grid & whether the supposed edge is, in fact, filled in\n",
    "    for edge in e:  \n",
    "        valid = True\n",
    "        for i in edge:\n",
    "            if i < 0 or i > shape.shape[0]-1:\n",
    "                #e.remove(edge)\n",
    "                valid = False\n",
    "                break\n",
    "                \n",
    "        if valid and shape[edge] > 0:\n",
    "            #e.remove(edge)\n",
    "            continue\n",
    "            \n",
    "        if valid:\n",
    "            e_found.append(edge)\n",
    "    \n",
    "    return e_found\n",
    "\n",
    "\n",
    "# returns an image that represents shape (2D np array)\n",
    "# color is a list representing RGB\n",
    "# res is an (int, int) tuple storing the x and y multipliers for the array size\n",
    "def shape_as_image(shape, res = (64, 64), color = [200, 200, 200, 255], random_color = False):\n",
    "    # generates a new shape based on res which adds an extra dimension for color\n",
    "    new_shape = np.zeros((shape.shape[0]*res[1], shape.shape[1]*res[0], 4), dtype=np.uint8)\n",
    "    \n",
    "    # colors in each block of pixels that corresponds to a value greater than 0 in shape\n",
    "    for r in range(len(shape)):\n",
    "        for i in range(len(shape[r])):\n",
    "            if shape[r][i] > 0:\n",
    "                if random_color:\n",
    "                    color = [random.randint(0,255), random.randint(0,255), random.randint(0,255), 255]\n",
    "                for row in new_shape[r*res[1]:r*res[1]+res[1]]:\n",
    "                    row[i*res[0]:i*res[0]+res[0]] = color\n",
    "    \n",
    "    return Image.fromarray(new_shape, 'RGBA')"
   ]
  },
  {
   "cell_type": "code",
   "execution_count": 135,
   "metadata": {},
   "outputs": [],
   "source": [
    "# randomly generates a shape given a grid_size (int) and number of generations (int)\n",
    "def organic_shape(grid_size = 8, generations = 5):\n",
    "    # initializes matrix of zeros to store the shape\n",
    "    shape = np.zeros((grid_size, grid_size))\n",
    "\n",
    "    # stores edges for each generative pass\n",
    "    edges = []\n",
    "\n",
    "    # chooses a random starting point (int, int) for generation\n",
    "    start_index = (random.randint(0,7), random.randint(0,7))\n",
    "    shape[start_index] += 1\n",
    "\n",
    "    # locates and adds starting edges to the edges list\n",
    "    for e in find_edges(start_index, shape):\n",
    "        edges.append(e)\n",
    "\n",
    "    # generates shape body over a specified number of passes (generations (int))\n",
    "    for z in range(generations): \n",
    "        if len(edges) < 1:\n",
    "            break\n",
    "\n",
    "        # used to store the new edges which will used to update edges at the end of each pass\n",
    "        temp_edges = []\n",
    "\n",
    "        # generates a random selection of edges which will become part of the body\n",
    "        inds = [random.randint(0,len(edges)-1) for x in range(len(edges))]\n",
    "\n",
    "        # adds body at all selected edges in inds\n",
    "        for x in inds:\n",
    "            # catches doubles created in inds\n",
    "            if shape[edges[x]] < 1:\n",
    "                shape[edges[x]] += 1\n",
    "                # finds and adds new edges to temp_edges\n",
    "                for e in find_edges(edges[x], shape):\n",
    "                    temp_edges.append(e)\n",
    "\n",
    "        edges = temp_edges[:]\n",
    "        \n",
    "    return shape"
   ]
  },
  {
   "cell_type": "code",
   "execution_count": 145,
   "metadata": {},
   "outputs": [],
   "source": [
    "frames = []\n",
    "for x in range(100):\n",
    "    f = shape_as_image(organic_shape(), random_color = True)\n",
    "    frames.append(f)\n",
    "frames[0].save('./organic_shpes.gif',\n",
    "               save_all=True, append_images=frames[1:], optimize=False, duration=500, loop=0)"
   ]
  },
  {
   "cell_type": "code",
   "execution_count": 146,
   "metadata": {},
   "outputs": [
    {
     "data": {
      "image/png": "[encoded data removed]",
      "text/plain": [
       "<PIL.Image.Image image mode=RGBA size=512x512 at 0x7FF3423A0810>"
      ]
     },
     "execution_count": 146,
     "metadata": {},
     "output_type": "execute_result"
    }
   ],
   "source": [
    "shape_as_image(organic_shape(), random_color = True)"
   ]
  },
  {
   "cell_type": "code",
   "execution_count": null,
   "metadata": {},
   "outputs": [],
   "source": []
  }
 ],
 "metadata": {
  "kernelspec": {
   "display_name": "Python 3",
   "language": "python",
   "name": "python3"
  },
  "language_info": {
   "codemirror_mode": {
    "name": "ipython",
    "version": 3
   },
   "file_extension": ".py",
   "mimetype": "text/x-python",
   "name": "python",
   "nbconvert_exporter": "python",
   "pygments_lexer": "ipython3",
   "version": "3.7.6"
  }
 },
 "nbformat": 4,
 "nbformat_minor": 4
}
